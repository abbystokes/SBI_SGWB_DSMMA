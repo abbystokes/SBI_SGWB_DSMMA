{
 "cells": [
  {
   "cell_type": "code",
   "execution_count": 1,
   "metadata": {},
   "outputs": [],
   "source": [
    "import numpy as np\n",
    "import pylab as plt\n",
    "import torch\n",
    "import scipy.stats as stats\n",
    "import scipy\n",
    "import numpy as np\n",
    "import matplotlib.pyplot as plt\n",
    "import pytorch_lightning as pl\n",
    "import swyft\n",
    "import random\n",
    "import torch.nn as nn\n",
    "import torch.nn.functional as F\n",
    "from torchsummary import summary\n",
    "import pandas as pd\n",
    "from sklearn.preprocessing import StandardScaler\n",
    "from sklearn.model_selection import train_test_split\n",
    "import torch.optim as optim\n",
    "from torch.utils.data import TensorDataset, Dataset, DataLoader\n",
    "\n",
    "\n",
    "\n",
    "DEVICE = 'gpu' if torch.cuda.is_available() else 'cpu'\n",
    "\n",
    "# Define simulator parameters\n",
    "f_low = 10\n",
    "f_high = 1024\n",
    "N_bins = 4076\n",
    "freq = np.linspace(f_low, f_high, N_bins)\n",
    "pi = np.pi\n",
    "sqrt = np.sqrt\n",
    "H100 = 3.241e-18\n",
    "h    = 0.679\n",
    "H0   = h * H100\n",
    "\n",
    "# Define Simulator\n",
    "class Simulator(swyft.Simulator):\n",
    "    def __init__(self, fref, psd, gamma, T_obs, Nbins=len(freq), bounds=None):\n",
    "        super().__init__()\n",
    "        \n",
    "        self.fref      = fref\n",
    "        self.psd       = psd\n",
    "        self.gamma     = gamma\n",
    "        self.T_obs     = T_obs\n",
    "        \n",
    "        self.transform_samples = swyft.to_numpy32\n",
    "        self.Nbins = Nbins\n",
    "        self.freq = np.linspace(f_low, f_high, N_bins)\n",
    "        self.sample_z = swyft.RectBoundSampler([stats.uniform(-12,5), #omega\n",
    "                                                stats.uniform(0,3)], #alpha\n",
    "                                                bounds = bounds) #bounds changes range of the prior\n",
    "\n",
    "    def psd_interp(self):\n",
    "        return scipy.interpolate.interp1d(self.psd[:,0], self.psd[:,1])(self.freq)\n",
    "    \n",
    "    def gamma_interp(self):\n",
    "        return scipy.interpolate.interp1d(self.gamma[:, 0], self.gamma[:, 1])(self.freq)\n",
    "    \n",
    "    def sigma(self):\n",
    "        numerator = (20*pi**2*self.freq**3)**2 * self.psd_interp()**2\n",
    "        denomenator = (3*H0**2)**2 * 8*self.gamma_interp()**2\n",
    "        T = 1/(self.freq[1]-self.freq[0])\n",
    "        N = 2*self.T_obs // T - 1\n",
    "        return np.sqrt(numerator/denomenator/N)\n",
    "    \n",
    "    def C_groundtruth(self, z):\n",
    "        Omega_ref = 10**z[0]\n",
    "        alpha     = z[1]\n",
    "        C_hat_ij = Omega_ref * (self.freq/self.fref)**alpha\n",
    "        return C_hat_ij\n",
    "    \n",
    "    def build(self, graph):\n",
    "        z = graph.node('z', self.sample_z)\n",
    "        m = graph.node('m', self.C_groundtruth, z)\n",
    "        x = graph.node(\"x\", lambda m: m + np.random.normal(0, self.sigma()), m)\n",
    "        #x = graph.node(\"x\", lambda m: m + 0, m) #Ground truth wih sigma noise\n",
    "        sigma = graph.node('sigma',self.sigma)"
   ]
  },
  {
   "cell_type": "markdown",
   "metadata": {},
   "source": []
  },
  {
   "cell_type": "code",
   "execution_count": 2,
   "metadata": {},
   "outputs": [
    {
     "data": {
      "application/vnd.jupyter.widget-view+json": {
       "model_id": "9b114e834d9446dd84cfee6667a4456b",
       "version_major": 2,
       "version_minor": 0
      },
      "text/plain": [
       "  0%|          | 0/10000 [00:00<?, ?it/s]"
      ]
     },
     "metadata": {},
     "output_type": "display_data"
    }
   ],
   "source": [
    "# Sample from Simulator\n",
    "\n",
    "n_samples = 10000\n",
    "fref = 25\n",
    "CE_PSD = np.genfromtxt(\"data/cosmic_explorer_40km_for_paper.txt\")\n",
    "CE_PSD[0, 0]  = 4.99999999999999999\n",
    "CE_PSD[:, 1] = CE_PSD[:, 1]**2\n",
    "gamma_HL = np.genfromtxt(\"data/gamma_HL.txt\")\n",
    "T_obs = 365 * 24 * 3600\n",
    "\n",
    "sim = Simulator(fref, CE_PSD, gamma_HL, T_obs, bounds=None)\n",
    "obs = sim.sample(conditions = {'z': np.array([5e-8, 2.1])})\n",
    "samples = sim.sample(n_samples) \n",
    "samples['x'] = np.log10(np.abs(samples['x']))\n"
   ]
  },
  {
   "cell_type": "code",
   "execution_count": null,
   "metadata": {},
   "outputs": [],
   "source": []
  },
  {
   "cell_type": "code",
   "execution_count": 17,
   "metadata": {},
   "outputs": [],
   "source": [
    "import torch\n",
    "import torch.nn as nn\n",
    "import torch.nn.functional as F\n",
    "from torchsummary import summary\n",
    "\n",
    "# Define VAE\n",
    "\n",
    "class VAE(swyft.SwyftModule):\n",
    "    def __init__(self):\n",
    "        \n",
    "        super().__init__()\n",
    "        marginals = ((0, 1),)\n",
    "        #self.simulator = Simulator(fref, CE_PSD, gamma_HL, T_obs, bounds=None)  # Attach the simulator to the model\n",
    "        \n",
    "        # Encoder layers (same as before, but with mu and logvar layers)\n",
    "        self.encoder_fc1 = nn.Linear(4076, 2048)\n",
    "        self.encoder_fc2 = nn.Linear( 2048, 1024)\n",
    "        self.encoder_fc3 = nn.Linear(1024, 512)\n",
    "        self.encoder_fc4 = nn.Linear(512, 256)\n",
    "        self.encoder_fc5 = nn.Linear( 256, 128)\n",
    "        self.encoder_fc6 = nn.Linear(128, 64)\n",
    "        self.encoder_fc7 = nn.Linear(64, 32)\n",
    "      \n",
    "        # Latent space mean and log variance\n",
    "        self.fc_mu = nn.Linear(32, 16) # bigger latent space improved learning \n",
    "        self.fc_logvar = nn.Linear(32, 16)\n",
    "        self.dropout = nn.Dropout(0.2)\n",
    "        self.logratios1 = swyft.LogRatioEstimator_1dim(\n",
    "            num_features=2,  # Number of features in compressed x (simulated observation)\n",
    "            num_params=2,    # Two parameters to infer: alpha and omega\n",
    "            varnames='z',  # Names of the parameters\n",
    "            num_blocks=4     # Number of neural network blocks\n",
    "        )\n",
    "        self.logratios2 = swyft.LogRatioEstimator_Ndim(num_features = 2, \n",
    "                                                       marginals = marginals, varnames = 'z', num_blocks = 4)\n",
    "\n",
    "    def encode(self, x):\n",
    "        # Encode input to latent space\n",
    "        x = F.relu(self.encoder_fc1(x))\n",
    "        x = F.relu(self.encoder_fc2(x))\n",
    "        x = F.relu(self.encoder_fc3(x))\n",
    "        x = F.relu(self.encoder_fc4(x))\n",
    "        x = F.relu(self.encoder_fc5(x))\n",
    "        x = F.relu(self.encoder_fc6(x))\n",
    "        x = F.relu(self.encoder_fc7(x))\n",
    "        # Get the mean and log variance for the latent space\n",
    "        mu = self.fc_mu(x)\n",
    "        logvar = self.fc_logvar(x)\n",
    "\n",
    "        return mu, logvar\n",
    "    \"\"\"\n",
    "    def training_step(self, batch, batch_idx):\n",
    "       # Extract 'z' from the batch\n",
    "        B = batch\n",
    "        #A = self.sample(batch_size=B['z'].shape[0])  # Simulate A using swyft's sampling\n",
    "\n",
    "        # Forward pass to get log-ratio output, mu, and logvar\n",
    "        mu, logvar = self.encode(A['x'])\n",
    "        z = self.reparameterize(mu, logvar)\n",
    "        z = self.dropout(z)\n",
    "        \n",
    "        # Swyft's log-ratio loss\n",
    "        log_ratio_loss = self.logratios(z, B['z'])\n",
    "\n",
    "        # VAE KL divergence loss\n",
    "        kl_loss = -0.5 * torch.sum(1 + logvar - mu.pow(2) - logvar.exp())\n",
    "        kl_loss = kl_loss / A['x'].size(0)  # Normalize by batch size if needed\n",
    "\n",
    "        # Combine losses with weighting if desired\n",
    "        total_loss = log_ratio_loss + kl_loss  \n",
    "\n",
    "        # Log losses for tracking\n",
    "        self.log(\"train/log_ratio_loss\", log_ratio_loss)\n",
    "        self.log(\"train/kl_loss\", kl_loss)\n",
    "        self.log(\"train/total_loss\", total_loss)\n",
    "\n",
    "        return total_loss\n",
    "    \"\"\"\n",
    "\n",
    "\n",
    "    def reparameterize(self, mu, logvar):\n",
    "        # Reparameterization trick: z = mu + sigma * epsilon\n",
    "        std = torch.exp(0.5 * logvar)\n",
    "        eps = torch.randn_like(std) # random noise\n",
    "        z = mu + eps * std # latent variable\n",
    "        return z\n",
    "\n",
    "    def forward(self, A, B):\n",
    "        # Forward pass: encode, reparameterize\n",
    "        mu, logvar = self.encode(A['x'])\n",
    "        z = self.reparameterize(mu, logvar)\n",
    "        z = self.dropout(z)\n",
    "        logratios1 = self.logratios1(A['z'], B['z'])\n",
    "        logratios2 = self.logratios2(A['z'], B['z'])\n",
    "        return logratios1,logratios2\n",
    "    \n",
    "    "
   ]
  },
  {
   "cell_type": "code",
   "execution_count": 18,
   "metadata": {},
   "outputs": [],
   "source": [
    "x_samples = np.log10(np.abs(samples['x']))\n",
    "m_samples = np.log10(np.abs(samples['m']))\n",
    "\n",
    "scaler_x = StandardScaler()\n",
    "scaler_m = StandardScaler()\n",
    "\n",
    "x_samples = scaler_x.fit_transform(x_samples)\n",
    "m_samples = scaler_m.fit_transform(m_samples)\n",
    "\n",
    "samples['x'] = x_samples\n",
    "samples['m'] = m_samples\n",
    "\n",
    "# split into train+val and test sets\n",
    "x_train, x_temp, m_train, m_temp = train_test_split(x_samples, m_samples, test_size=0.2, random_state=42)\n",
    "\n",
    "# Further split train+val into separate training and validation sets for 80/10/10 split\n",
    "x_val, x_test, m_val, m_test = train_test_split(x_temp, m_temp, test_size=0.5, random_state=42)\n",
    "\n",
    "\n",
    "# Convert to tensors\n",
    "x_train_tensor = torch.tensor(x_train, dtype=torch.float32)\n",
    "x_test_tensor = torch.tensor(x_test, dtype=torch.float32)\n",
    "x_val_tensor = torch.tensor(x_val, dtype=torch.float32)\n",
    "m_train_tensor = torch.tensor(m_train, dtype=torch.float32)\n",
    "m_test_tensor = torch.tensor(m_test, dtype=torch.float32)\n",
    "m_val_tensor = torch.tensor(m_val, dtype=torch.float32)\n"
   ]
  },
  {
   "cell_type": "code",
   "execution_count": 19,
   "metadata": {},
   "outputs": [
    {
     "name": "stderr",
     "output_type": "stream",
     "text": [
      "GPU available: True (mps), used: False\n",
      "TPU available: False, using: 0 TPU cores\n",
      "IPU available: False, using: 0 IPUs\n",
      "HPU available: False, using: 0 HPUs\n",
      "/Users/lexington/anaconda3/envs/test_env/lib/python3.11/site-packages/pytorch_lightning/trainer/setup.py:201: UserWarning: MPS available but not used. Set `accelerator` and `devices` using `Trainer(accelerator='mps', devices=1)`.\n",
      "  rank_zero_warn(\n",
      "/Users/lexington/anaconda3/envs/test_env/lib/python3.11/site-packages/pytorch_lightning/loops/utilities.py:94: PossibleUserWarning: `max_epochs` was not set. Setting it to 1000 epochs. To train without an epoch limit, set `max_epochs=-1`.\n",
      "  rank_zero_warn(\n",
      "The following callbacks returned in `LightningModule.configure_callbacks` will override existing callbacks passed to Trainer: ModelCheckpoint\n",
      "\n",
      "   | Name        | Type                   | Params\n",
      "--------------------------------------------------------\n",
      "0  | encoder_fc1 | Linear                 | 8.3 M \n",
      "1  | encoder_fc2 | Linear                 | 2.1 M \n",
      "2  | encoder_fc3 | Linear                 | 524 K \n",
      "3  | encoder_fc4 | Linear                 | 131 K \n",
      "4  | encoder_fc5 | Linear                 | 32.9 K\n",
      "5  | encoder_fc6 | Linear                 | 8.3 K \n",
      "6  | encoder_fc7 | Linear                 | 2.1 K \n",
      "7  | fc_mu       | Linear                 | 528   \n",
      "8  | fc_logvar   | Linear                 | 528   \n",
      "9  | dropout     | Dropout                | 0     \n",
      "10 | logratios1  | LogRatioEstimator_1dim | 69.2 K\n",
      "11 | logratios2  | LogRatioEstimator_Ndim | 34.7 K\n",
      "--------------------------------------------------------\n",
      "11.3 M    Trainable params\n",
      "0         Non-trainable params\n",
      "11.3 M    Total params\n",
      "90.018    Total estimated model params size (MB)\n"
     ]
    },
    {
     "data": {
      "application/vnd.jupyter.widget-view+json": {
       "model_id": "3724a4b4a7c041119d56757f29d1f279",
       "version_major": 2,
       "version_minor": 0
      },
      "text/plain": [
       "Sanity Checking: 0it [00:00, ?it/s]"
      ]
     },
     "metadata": {},
     "output_type": "display_data"
    },
    {
     "name": "stderr",
     "output_type": "stream",
     "text": [
      "/Users/lexington/anaconda3/envs/test_env/lib/python3.11/site-packages/pytorch_lightning/trainer/connectors/data_connector.py:224: PossibleUserWarning: The dataloader, val_dataloader 0, does not have many workers which may be a bottleneck. Consider increasing the value of the `num_workers` argument` (try 8 which is the number of cpus on this machine) in the `DataLoader` init to improve performance.\n",
      "  rank_zero_warn(\n",
      "/Users/lexington/anaconda3/envs/test_env/lib/python3.11/site-packages/pytorch_lightning/trainer/connectors/data_connector.py:224: PossibleUserWarning: The dataloader, train_dataloader, does not have many workers which may be a bottleneck. Consider increasing the value of the `num_workers` argument` (try 8 which is the number of cpus on this machine) in the `DataLoader` init to improve performance.\n",
      "  rank_zero_warn(\n"
     ]
    },
    {
     "data": {
      "application/vnd.jupyter.widget-view+json": {
       "model_id": "7418cebdb5c44a03869bb0758916e336",
       "version_major": 2,
       "version_minor": 0
      },
      "text/plain": [
       "Training: 0it [00:00, ?it/s]"
      ]
     },
     "metadata": {},
     "output_type": "display_data"
    },
    {
     "data": {
      "application/vnd.jupyter.widget-view+json": {
       "model_id": "d6d4c2394e6c4201b945fe7994404ba5",
       "version_major": 2,
       "version_minor": 0
      },
      "text/plain": [
       "Validation: 0it [00:00, ?it/s]"
      ]
     },
     "metadata": {},
     "output_type": "display_data"
    },
    {
     "data": {
      "application/vnd.jupyter.widget-view+json": {
       "model_id": "22d7ef3b8df74d5fb705f94bf491cc37",
       "version_major": 2,
       "version_minor": 0
      },
      "text/plain": [
       "Validation: 0it [00:00, ?it/s]"
      ]
     },
     "metadata": {},
     "output_type": "display_data"
    },
    {
     "data": {
      "application/vnd.jupyter.widget-view+json": {
       "model_id": "3d5e060b7e40426ba86e5a2d6aa53bf3",
       "version_major": 2,
       "version_minor": 0
      },
      "text/plain": [
       "Validation: 0it [00:00, ?it/s]"
      ]
     },
     "metadata": {},
     "output_type": "display_data"
    },
    {
     "data": {
      "application/vnd.jupyter.widget-view+json": {
       "model_id": "9178f37724e64e2ab9b33de2a1ad09cb",
       "version_major": 2,
       "version_minor": 0
      },
      "text/plain": [
       "Validation: 0it [00:00, ?it/s]"
      ]
     },
     "metadata": {},
     "output_type": "display_data"
    },
    {
     "data": {
      "application/vnd.jupyter.widget-view+json": {
       "model_id": "af2dd42f39324364bff7b6107801315a",
       "version_major": 2,
       "version_minor": 0
      },
      "text/plain": [
       "Validation: 0it [00:00, ?it/s]"
      ]
     },
     "metadata": {},
     "output_type": "display_data"
    },
    {
     "data": {
      "application/vnd.jupyter.widget-view+json": {
       "model_id": "8d3973ce06f54570b084dad170c096a8",
       "version_major": 2,
       "version_minor": 0
      },
      "text/plain": [
       "Validation: 0it [00:00, ?it/s]"
      ]
     },
     "metadata": {},
     "output_type": "display_data"
    },
    {
     "data": {
      "application/vnd.jupyter.widget-view+json": {
       "model_id": "9d96afb1080342f6941995b456734516",
       "version_major": 2,
       "version_minor": 0
      },
      "text/plain": [
       "Validation: 0it [00:00, ?it/s]"
      ]
     },
     "metadata": {},
     "output_type": "display_data"
    },
    {
     "data": {
      "application/vnd.jupyter.widget-view+json": {
       "model_id": "b5f93e28c254463d8f69629bd8731301",
       "version_major": 2,
       "version_minor": 0
      },
      "text/plain": [
       "Validation: 0it [00:00, ?it/s]"
      ]
     },
     "metadata": {},
     "output_type": "display_data"
    },
    {
     "name": "stdout",
     "output_type": "stream",
     "text": [
      "Reloading best model: /Users/lexington/Documents/GitHub/SBI_SGWB_DSMMA/Lexi/lightning_logs/version_70/checkpoints/epoch=2-step=750.ckpt\n"
     ]
    },
    {
     "name": "stderr",
     "output_type": "stream",
     "text": [
      "/Users/lexington/anaconda3/envs/test_env/lib/python3.11/site-packages/swyft/lightning/utils.py:535: FutureWarning: You are using `torch.load` with `weights_only=False` (the current default value), which uses the default pickle module implicitly. It is possible to construct malicious pickle data which will execute arbitrary code during unpickling (See https://github.com/pytorch/pytorch/blob/main/SECURITY.md#untrusted-models for more details). In a future release, the default value for `weights_only` will be flipped to `True`. This limits the functions that could be executed during unpickling. Arbitrary objects will no longer be allowed to be loaded via this mode unless they are explicitly allowlisted by the user via `torch.serialization.add_safe_globals`. We recommend you start setting `weights_only=True` for any use case where you don't have full control of the loaded file. Please open an issue on GitHub for any issues related to this experimental feature.\n",
      "  checkpoint = torch.load(self.best_model_path)\n"
     ]
    }
   ],
   "source": [
    "trainer = swyft.SwyftTrainer(accelerator=DEVICE, precision=64)\n",
    "\n",
    "# Step 4: Prepare the data module for training\n",
    "dm = swyft.SwyftDataModule(samples)\n",
    "\n",
    "# Step 5: Instantiate and train the network\n",
    "network = VAE()\n",
    "trainer.fit(network, dm)"
   ]
  },
  {
   "cell_type": "code",
   "execution_count": 20,
   "metadata": {},
   "outputs": [
    {
     "name": "stderr",
     "output_type": "stream",
     "text": [
      "The following callbacks returned in `LightningModule.configure_callbacks` will override existing callbacks passed to Trainer: EarlyStopping, ModelCheckpoint\n"
     ]
    },
    {
     "data": {
      "application/vnd.jupyter.widget-view+json": {
       "model_id": "2278ff82e2254365ad9969c7deba0281",
       "version_major": 2,
       "version_minor": 0
      },
      "text/plain": [
       "Predicting: 250it [00:00, ?it/s]"
      ]
     },
     "metadata": {},
     "output_type": "display_data"
    },
    {
     "name": "stderr",
     "output_type": "stream",
     "text": [
      "/Users/lexington/anaconda3/envs/test_env/lib/python3.11/site-packages/pytorch_lightning/loops/epoch/prediction_epoch_loop.py:173: UserWarning: Lightning couldn't infer the indices fetched for your dataloader.\n",
      "  warning_cache.warn(\"Lightning couldn't infer the indices fetched for your dataloader.\")\n"
     ]
    }
   ],
   "source": [
    "# Define priors\n",
    "omega_prior = stats.uniform(-12, 5)  # Log-uniform distribution for omega\n",
    "alpha_prior = stats.uniform(0, 3)            # Uniform distribution for alpha\n",
    "\n",
    "obs = swyft.Sample(x=samples['x'][0], z=samples['z'][0] ) \n",
    "# Sample 1000 points from the priors\n",
    "z_omega = omega_prior.rvs(20000)\n",
    "z_alpha = alpha_prior.rvs(20000)\n",
    "\n",
    "z_samps = np.column_stack((z_omega, z_alpha))\n",
    "\n",
    "# Create prior samples\n",
    "prior_samples = swyft.Samples(z = z_samps)\n",
    "predictions = trainer.infer(network, obs, prior_samples)\n"
   ]
  },
  {
   "cell_type": "code",
   "execution_count": 23,
   "metadata": {},
   "outputs": [
    {
     "data": {
      "image/png": "[encoded data removed]",
      "text/plain": [
       "<Figure size 640x480 with 1 Axes>"
      ]
     },
     "metadata": {},
     "output_type": "display_data"
    }
   ],
   "source": [
    "swyft.plot_pair(predictions, [\"z[0]\", \"z[1]\"], bins = 100, smooth = 1);"
   ]
  },
  {
   "cell_type": "code",
   "execution_count": 24,
   "metadata": {},
   "outputs": [
    {
     "data": {
      "image/png": "[encoded data removed]",
      "text/plain": [
       "<Figure size 640x480 with 9 Axes>"
      ]
     },
     "metadata": {},
     "output_type": "display_data"
    }
   ],
   "source": [
    "swyft.plot_corner(predictions, ['z[0]', 'z[1]', 'z[2]'], bins = 200, smooth = 3);\n"
   ]
  },
  {
   "cell_type": "code",
   "execution_count": 25,
   "metadata": {},
   "outputs": [
    {
     "ename": "IndexError",
     "evalue": "too many indices for array: array is 1-dimensional, but 2 were indexed",
     "output_type": "error",
     "traceback": [
      "\u001b[0;31m---------------------------------------------------------------------------\u001b[0m",
      "\u001b[0;31mIndexError\u001b[0m                                Traceback (most recent call last)",
      "Cell \u001b[0;32mIn[25], line 3\u001b[0m\n\u001b[1;32m      1\u001b[0m \u001b[38;5;28;01mimport\u001b[39;00m \u001b[38;5;21;01mseaborn\u001b[39;00m \u001b[38;5;28;01mas\u001b[39;00m \u001b[38;5;21;01msns\u001b[39;00m\n\u001b[1;32m      2\u001b[0m ln_r \u001b[38;5;241m=\u001b[39m np\u001b[38;5;241m.\u001b[39masarray(predictions)\n\u001b[0;32m----> 3\u001b[0m r_1 \u001b[38;5;241m=\u001b[39m np\u001b[38;5;241m.\u001b[39mexp(ln_r[:, \u001b[38;5;241m0\u001b[39m])\n\u001b[1;32m      4\u001b[0m r_2 \u001b[38;5;241m=\u001b[39m np\u001b[38;5;241m.\u001b[39mexp(ln_r[:, \u001b[38;5;241m1\u001b[39m])\n\u001b[1;32m      5\u001b[0m post_Omega \u001b[38;5;241m=\u001b[39m np\u001b[38;5;241m.\u001b[39mrandom\u001b[38;5;241m.\u001b[39mchoice(z_samps[:, \u001b[38;5;241m0\u001b[39m], size\u001b[38;5;241m=\u001b[39m\u001b[38;5;241m1000\u001b[39m, p \u001b[38;5;241m=\u001b[39m r_1\u001b[38;5;241m/\u001b[39mnp\u001b[38;5;241m.\u001b[39msum(r_1))\n",
      "\u001b[0;31mIndexError\u001b[0m: too many indices for array: array is 1-dimensional, but 2 were indexed"
     ]
    }
   ],
   "source": [
    "import seaborn as sns\n",
    "ln_r = np.asarray(predictions)\n",
    "r_1 = np.exp(ln_r[:, 0])\n",
    "r_2 = np.exp(ln_r[:, 1])\n",
    "post_Omega = np.random.choice(z_samps[:, 0], size=1000, p = r_1/np.sum(r_1))\n",
    "post_alpha = np.random.choice(z_samps[:, 1], size=1000, p = r_2/np.sum(r_2))\n",
    "\n",
    "plt.figure(figsize=(15, 6))\n",
    "plt.subplot(131)\n",
    "sns.histplot(post_Omega, bins=30, element=\"step\", fill=False)\n",
    "plt.axvline(obs['z'][0], color=\"red\")\n",
    "plt.xlabel(r\"$\\log_{10}\\Omega_\\alpha$\")\n",
    "plt.subplot(132)\n",
    "sns.histplot(post_alpha, bins=30, element=\"step\", fill=False)\n",
    "plt.axvline(obs['z'][1], color=\"red\")\n",
    "plt.xlabel(r\"$\\alpha$\")\n",
    "plt.subplot(133)\n",
    "\n",
    "\n",
    "for i in range(500):\n",
    "    plt.loglog(sim.freq, 10**post_Omega[i] * (sim.freq/sim.fref)**post_alpha[i], alpha=0.2, color=\"gray\")\n",
    "plt.xlabel(r\"$f$/Hz\")\n",
    "plt.ylabel(r\"$\\Omega(f)$\")\n",
    "plt.subplots_adjust(wspace=0.5)\n",
    "plt.loglog(sim.freq, 10**obs['z'][0]*(sim.freq/sim.fref)**obs['z'][1], color=\"red\")"
   ]
  },
  {
   "cell_type": "code",
   "execution_count": null,
   "metadata": {},
   "outputs": [],
   "source": [
    "#implement T M N R E "
   ]
  }
 ],
 "metadata": {
  "kernelspec": {
   "display_name": "test_env",
   "language": "python",
   "name": "python3"
  },
  "language_info": {
   "codemirror_mode": {
    "name": "ipython",
    "version": 3
   },
   "file_extension": ".py",
   "mimetype": "text/x-python",
   "name": "python",
   "nbconvert_exporter": "python",
   "pygments_lexer": "ipython3",
   "version": "3.11.5"
  }
 },
 "nbformat": 4,
 "nbformat_minor": 2
}
