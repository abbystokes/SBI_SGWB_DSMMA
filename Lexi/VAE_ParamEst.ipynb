{
 "cells": [
  {
   "cell_type": "code",
   "execution_count": 2,
   "metadata": {},
   "outputs": [],
   "source": [
    "import numpy as np\n",
    "import pylab as plt\n",
    "import torch\n",
    "import scipy.stats as stats\n",
    "import scipy\n",
    "import numpy as np\n",
    "import matplotlib.pyplot as plt\n",
    "import pytorch_lightning as pl\n",
    "import swyft\n",
    "import random\n",
    "import torch.nn as nn\n",
    "import torch.nn.functional as F\n",
    "from torchsummary import summary\n",
    "import pandas as pd\n",
    "from sklearn.preprocessing import StandardScaler\n",
    "from sklearn.model_selection import train_test_split\n",
    "import torch.optim as optim\n",
    "from torch.utils.data import TensorDataset, Dataset, DataLoader\n",
    "\n",
    "\n",
    "\n",
    "DEVICE = 'gpu' if torch.cuda.is_available() else 'cpu'\n",
    "\n",
    "# Define simulator parameters\n",
    "f_low = 10\n",
    "f_high = 1024\n",
    "N_bins = 4076\n",
    "freq = np.linspace(f_low, f_high, N_bins)\n",
    "pi = np.pi\n",
    "sqrt = np.sqrt\n",
    "H100 = 3.241e-18\n",
    "h    = 0.679\n",
    "H0   = h * H100\n",
    "\n",
    "# Define Simulator\n",
    "class Simulator(swyft.Simulator):\n",
    "    def __init__(self, fref, psd, gamma, T_obs, Nbins=len(freq), bounds=None):\n",
    "        super().__init__()\n",
    "        \n",
    "        self.fref      = fref\n",
    "        self.psd       = psd\n",
    "        self.gamma     = gamma\n",
    "        self.T_obs     = T_obs\n",
    "        \n",
    "        self.transform_samples = swyft.to_numpy32\n",
    "        self.Nbins = Nbins\n",
    "        self.freq = np.linspace(f_low, f_high, N_bins)\n",
    "        self.sample_z = swyft.RectBoundSampler([stats.uniform(-12,5), #omega\n",
    "                                                stats.uniform(0,3)], #alpha\n",
    "                                                bounds = bounds) #bounds changes range of the prior\n",
    "\n",
    "    def psd_interp(self):\n",
    "        return scipy.interpolate.interp1d(self.psd[:,0], self.psd[:,1])(self.freq)\n",
    "    \n",
    "    def gamma_interp(self):\n",
    "        return scipy.interpolate.interp1d(self.gamma[:, 0], self.gamma[:, 1])(self.freq)\n",
    "    \n",
    "    def sigma(self):\n",
    "        numerator = (20*pi**2*self.freq**3)**2 * self.psd_interp()**2\n",
    "        denomenator = (3*H0**2)**2 * 8*self.gamma_interp()**2\n",
    "        T = 1/(self.freq[1]-self.freq[0])\n",
    "        N = 2*self.T_obs // T - 1\n",
    "        return np.sqrt(numerator/denomenator/N)\n",
    "    \n",
    "    def C_groundtruth(self, z):\n",
    "        Omega_ref = 10**z[0]\n",
    "        alpha     = z[1]\n",
    "        C_hat_ij = Omega_ref * (self.freq/self.fref)**alpha\n",
    "        return C_hat_ij\n",
    "    \n",
    "    def build(self, graph):\n",
    "        z = graph.node('z', self.sample_z)\n",
    "        m = graph.node('m', self.C_groundtruth, z)\n",
    "        x = graph.node(\"x\", lambda m: m + np.random.normal(0, self.sigma()), m)\n",
    "        #x = graph.node(\"x\", lambda m: m + 0, m) #Ground truth wih sigma noise\n",
    "        sigma = graph.node('sigma',self.sigma)"
   ]
  },
  {
   "cell_type": "markdown",
   "metadata": {},
   "source": []
  },
  {
   "cell_type": "code",
   "execution_count": 3,
   "metadata": {},
   "outputs": [
    {
     "data": {
      "application/vnd.jupyter.widget-view+json": {
       "model_id": "ce5ea71716ad48169851e3b91f7f7b18",
       "version_major": 2,
       "version_minor": 0
      },
      "text/plain": [
       "  0%|          | 0/10000 [00:00<?, ?it/s]"
      ]
     },
     "metadata": {},
     "output_type": "display_data"
    }
   ],
   "source": [
    "# Sample from Simulator\n",
    "\n",
    "n_samples = 10000\n",
    "fref = 25\n",
    "CE_PSD = np.genfromtxt(\"data/cosmic_explorer_40km_for_paper.txt\")\n",
    "CE_PSD[0, 0]  = 4.99999999999999999\n",
    "CE_PSD[:, 1] = CE_PSD[:, 1]**2\n",
    "gamma_HL = np.genfromtxt(\"data/gamma_HL.txt\")\n",
    "T_obs = 365 * 24 * 3600\n",
    "\n",
    "sim = Simulator(fref, CE_PSD, gamma_HL, T_obs, bounds=None)\n",
    "obs = sim.sample(conditions = {'z': np.array([5e-8, 2.1])})\n",
    "samples = sim.sample(n_samples) \n",
    "#sims['x'] = np.log10(np.abs(sims['x']))"
   ]
  },
  {
   "cell_type": "code",
   "execution_count": 4,
   "metadata": {},
   "outputs": [],
   "source": [
    "#samples = swyft.Samples(x=np.log10(np.abs(sims['x'][1:])), z=sims['z'][1:]) # Samples for training network\n",
    "#obs = swyft.Sample(x=np.log10(np.abs(sims['x'][0])), z=sims['z'][0] ) # Example observation for inference\n",
    "\n",
    "# Set aside observation parameters for later\n",
    "#obs_omega = sims['z'][0][0]\n",
    "#obs_alpha = sims['z'][0][1]\n",
    "\n",
    "\n",
    "\n",
    "# Plot example observation\n",
    "#plt.semilogx(sim.freq, obs['x'], 'r', lw=2)\n",
    "#plt.tight_layout()\n",
    "#plt.show()"
   ]
  },
  {
   "cell_type": "code",
   "execution_count": 5,
   "metadata": {},
   "outputs": [],
   "source": [
    "import torch\n",
    "import torch.nn as nn\n",
    "import torch.nn.functional as F\n",
    "from torchsummary import summary\n",
    "\n",
    "# Define VAE\n",
    "\n",
    "class VAE(swyft.SwyftModule):\n",
    "    def __init__(self):\n",
    "        super().__init__()\n",
    "        #self.simulator = Simulator(fref, CE_PSD, gamma_HL, T_obs, bounds=None)  # Attach the simulator to the model\n",
    "        \n",
    "        # Encoder layers (same as before, but with mu and logvar layers)\n",
    "        self.encoder_fc1 = nn.Linear(4076, 1024)\n",
    "        self.encoder_fc2 = nn.Linear(1024, 256)\n",
    "        self.encoder_fc3 = nn.Linear(256, 64)\n",
    "\n",
    "        # Latent space mean and log variance\n",
    "        self.fc_mu = nn.Linear(64, 16) # bigger latent space improved learning \n",
    "        self.fc_logvar = nn.Linear(64, 16)\n",
    "        self.dropout = nn.Dropout(0.2)\n",
    "\n",
    "        self.logratios = swyft.LogRatioEstimator_1dim(\n",
    "            num_features=16,  # Number of features in compressed x (simulated observation)\n",
    "            num_params=2,    # Two parameters to infer: alpha and omega\n",
    "            varnames='z',  # Names of the parameters\n",
    "            num_blocks=4     # Number of neural network blocks\n",
    "        )\n",
    "\n",
    "    \"\"\"\n",
    "    def training_step(self, batch, batch_idx):\n",
    "       # Extract 'z' from the batch\n",
    "        B = batch\n",
    "        #A = self.sample(batch_size=B['z'].shape[0])  # Simulate A using swyft's sampling\n",
    "\n",
    "        # Forward pass to get log-ratio output, mu, and logvar\n",
    "        mu, logvar = self.encode(A['x'])\n",
    "        z = self.reparameterize(mu, logvar)\n",
    "        z = self.dropout(z)\n",
    "        \n",
    "        # Swyft's log-ratio loss\n",
    "        log_ratio_loss = self.logratios(z, B['z'])\n",
    "\n",
    "        # VAE KL divergence loss\n",
    "        kl_loss = -0.5 * torch.sum(1 + logvar - mu.pow(2) - logvar.exp())\n",
    "        kl_loss = kl_loss / A['x'].size(0)  # Normalize by batch size if needed\n",
    "\n",
    "        # Combine losses with weighting if desired\n",
    "        total_loss = log_ratio_loss + kl_loss  \n",
    "\n",
    "        # Log losses for tracking\n",
    "        self.log(\"train/log_ratio_loss\", log_ratio_loss)\n",
    "        self.log(\"train/kl_loss\", kl_loss)\n",
    "        self.log(\"train/total_loss\", total_loss)\n",
    "\n",
    "        return total_loss\n",
    "    \"\"\"\n",
    "    def encode(self, x):\n",
    "        # Encode input to latent space\n",
    "        x = F.leaky_relu(self.encoder_fc1(x))\n",
    "        x = F.leaky_relu(self.encoder_fc2(x))\n",
    "        x = F.leaky_relu(self.encoder_fc3(x))\n",
    "\n",
    "        # Get the mean and log variance for the latent space\n",
    "        mu = self.fc_mu(x)\n",
    "        logvar = self.fc_logvar(x)\n",
    "\n",
    "        return mu, logvar\n",
    "\n",
    "    def reparameterize(self, mu, logvar):\n",
    "        # Reparameterization trick: z = mu + sigma * epsilon\n",
    "        std = torch.exp(0.5 * logvar)\n",
    "        eps = torch.randn_like(std) # random noise/\"\"\n",
    "        z = mu + eps * std # latent variable\n",
    "        return z\n",
    "\n",
    "    def forward(self, A, B):\n",
    "        # Forward pass: encode, reparameterize\n",
    "        mu, logvar = self.encode(A['x'])\n",
    "        z = self.reparameterize(mu, logvar)\n",
    "        z = self.dropout(z)\n",
    "        \n",
    "        return self.logratios(z, B['z'])\n",
    "    \n",
    "    "
   ]
  },
  {
   "cell_type": "code",
   "execution_count": 6,
   "metadata": {},
   "outputs": [],
   "source": [
    "x_samples = np.log10(np.abs(samples['x']))\n",
    "m_samples = np.log10(np.abs(samples['m']))\n",
    "\n",
    "#  split into train and test sets\n",
    "x_train, x_test, m_train, m_test = train_test_split(x_samples, m_samples, test_size=0.2, random_state=42)\n",
    "\n",
    "\n",
    "# Scaling data across each sample (need to transpose first)\n",
    "transposed_x_train = x_train.T\n",
    "transposed_m_train = m_train.T\n",
    "transposed_x_test = x_test.T\n",
    "transposed_m_test = m_test.T\n",
    "\n",
    "scaler_x = StandardScaler() \n",
    "scaler_m = StandardScaler()\n",
    "\n",
    "\n",
    "x_T_scaled_train = scaler_x.fit_transform(transposed_x_train)\n",
    "m_T_scaled_train = scaler_m.fit_transform(transposed_m_train)\n",
    "x_T_scaled_test = scaler_x.fit_transform(transposed_x_test)\n",
    "m_T_scaled_test = scaler_m.fit_transform(transposed_m_test)\n",
    "\n",
    "x_scaled_train = x_T_scaled_train.T\n",
    "m_scaled_train = m_T_scaled_train.T\n",
    "x_scaled_test = x_T_scaled_test.T\n",
    "m_scaled_test = m_T_scaled_test.T\n"
   ]
  },
  {
   "cell_type": "code",
   "execution_count": 7,
   "metadata": {},
   "outputs": [
    {
     "name": "stderr",
     "output_type": "stream",
     "text": [
      "GPU available: True (mps), used: False\n",
      "TPU available: False, using: 0 TPU cores\n",
      "IPU available: False, using: 0 IPUs\n",
      "HPU available: False, using: 0 HPUs\n",
      "/Users/lexington/anaconda3/envs/test_env/lib/python3.11/site-packages/pytorch_lightning/trainer/setup.py:201: UserWarning: MPS available but not used. Set `accelerator` and `devices` using `Trainer(accelerator='mps', devices=1)`.\n",
      "  rank_zero_warn(\n",
      "/Users/lexington/anaconda3/envs/test_env/lib/python3.11/site-packages/pytorch_lightning/trainer/connectors/logger_connector/logger_connector.py:67: UserWarning: Starting from v1.9.0, `tensorboardX` has been removed as a dependency of the `pytorch_lightning` package, due to potential conflicts with other packages in the ML ecosystem. For this reason, `logger=True` will use `CSVLogger` as the default logger, unless the `tensorboard` or `tensorboardX` packages are found. Please `pip install lightning[extra]` or one of them to enable TensorBoard support by default\n",
      "  warning_cache.warn(\n",
      "/Users/lexington/anaconda3/envs/test_env/lib/python3.11/site-packages/pytorch_lightning/loops/utilities.py:94: PossibleUserWarning: `max_epochs` was not set. Setting it to 1000 epochs. To train without an epoch limit, set `max_epochs=-1`.\n",
      "  rank_zero_warn(\n",
      "The following callbacks returned in `LightningModule.configure_callbacks` will override existing callbacks passed to Trainer: ModelCheckpoint\n",
      "\n",
      "  | Name        | Type                   | Params\n",
      "-------------------------------------------------------\n",
      "0 | encoder_fc1 | Linear                 | 4.2 M \n",
      "1 | encoder_fc2 | Linear                 | 262 K \n",
      "2 | encoder_fc3 | Linear                 | 16.4 K\n",
      "3 | fc_mu       | Linear                 | 1.0 K \n",
      "4 | fc_logvar   | Linear                 | 1.0 K \n",
      "5 | dropout     | Dropout                | 0     \n",
      "6 | logratios   | LogRatioEstimator_1dim | 71.0 K\n",
      "-------------------------------------------------------\n",
      "4.5 M     Trainable params\n",
      "0         Non-trainable params\n",
      "4.5 M     Total params\n",
      "36.215    Total estimated model params size (MB)\n"
     ]
    },
    {
     "data": {
      "application/vnd.jupyter.widget-view+json": {
       "model_id": "d822b58130aa47bea41cc3d1837ef18a",
       "version_major": 2,
       "version_minor": 0
      },
      "text/plain": [
       "Sanity Checking: 0it [00:00, ?it/s]"
      ]
     },
     "metadata": {},
     "output_type": "display_data"
    },
    {
     "name": "stderr",
     "output_type": "stream",
     "text": [
      "/Users/lexington/anaconda3/envs/test_env/lib/python3.11/site-packages/pytorch_lightning/trainer/connectors/data_connector.py:224: PossibleUserWarning: The dataloader, val_dataloader 0, does not have many workers which may be a bottleneck. Consider increasing the value of the `num_workers` argument` (try 8 which is the number of cpus on this machine) in the `DataLoader` init to improve performance.\n",
      "  rank_zero_warn(\n",
      "/Users/lexington/anaconda3/envs/test_env/lib/python3.11/site-packages/torch/__init__.py:1144: UserWarning: torch.set_default_tensor_type() is deprecated as of PyTorch 2.1, please use torch.set_default_dtype() and torch.set_default_device() as alternatives. (Triggered internally at /Users/runner/work/pytorch/pytorch/pytorch/torch/csrc/tensor/python_tensor.cpp:434.)\n",
      "  _C._set_default_tensor_type(t)\n",
      "/Users/lexington/anaconda3/envs/test_env/lib/python3.11/site-packages/pytorch_lightning/trainer/connectors/data_connector.py:224: PossibleUserWarning: The dataloader, train_dataloader, does not have many workers which may be a bottleneck. Consider increasing the value of the `num_workers` argument` (try 8 which is the number of cpus on this machine) in the `DataLoader` init to improve performance.\n",
      "  rank_zero_warn(\n"
     ]
    },
    {
     "data": {
      "application/vnd.jupyter.widget-view+json": {
       "model_id": "f473e6f68f1d4ca08ae14b5eb2bef911",
       "version_major": 2,
       "version_minor": 0
      },
      "text/plain": [
       "Training: 0it [00:00, ?it/s]"
      ]
     },
     "metadata": {},
     "output_type": "display_data"
    },
    {
     "data": {
      "application/vnd.jupyter.widget-view+json": {
       "model_id": "9f0bb705e0214ea6b39df5ec7b61134d",
       "version_major": 2,
       "version_minor": 0
      },
      "text/plain": [
       "Validation: 0it [00:00, ?it/s]"
      ]
     },
     "metadata": {},
     "output_type": "display_data"
    },
    {
     "data": {
      "application/vnd.jupyter.widget-view+json": {
       "model_id": "43e4d3ffd8c544c1bfa0f9ed0db9b326",
       "version_major": 2,
       "version_minor": 0
      },
      "text/plain": [
       "Validation: 0it [00:00, ?it/s]"
      ]
     },
     "metadata": {},
     "output_type": "display_data"
    },
    {
     "data": {
      "application/vnd.jupyter.widget-view+json": {
       "model_id": "1b51c442d91c4e168adcedd8290927aa",
       "version_major": 2,
       "version_minor": 0
      },
      "text/plain": [
       "Validation: 0it [00:00, ?it/s]"
      ]
     },
     "metadata": {},
     "output_type": "display_data"
    },
    {
     "data": {
      "application/vnd.jupyter.widget-view+json": {
       "model_id": "52c96aea945947be9b8129237b706ebf",
       "version_major": 2,
       "version_minor": 0
      },
      "text/plain": [
       "Validation: 0it [00:00, ?it/s]"
      ]
     },
     "metadata": {},
     "output_type": "display_data"
    },
    {
     "data": {
      "application/vnd.jupyter.widget-view+json": {
       "model_id": "8658b81ff1c6492fbf5e6b0a7afaec16",
       "version_major": 2,
       "version_minor": 0
      },
      "text/plain": [
       "Validation: 0it [00:00, ?it/s]"
      ]
     },
     "metadata": {},
     "output_type": "display_data"
    },
    {
     "data": {
      "application/vnd.jupyter.widget-view+json": {
       "model_id": "61ce381440dd4f9daa4a03dc37f62773",
       "version_major": 2,
       "version_minor": 0
      },
      "text/plain": [
       "Validation: 0it [00:00, ?it/s]"
      ]
     },
     "metadata": {},
     "output_type": "display_data"
    },
    {
     "data": {
      "application/vnd.jupyter.widget-view+json": {
       "model_id": "da15dd4929f54b1791f4a5f52cd38698",
       "version_major": 2,
       "version_minor": 0
      },
      "text/plain": [
       "Validation: 0it [00:00, ?it/s]"
      ]
     },
     "metadata": {},
     "output_type": "display_data"
    },
    {
     "data": {
      "application/vnd.jupyter.widget-view+json": {
       "model_id": "9fcc807fadb94280b0a61fb1bc814fe4",
       "version_major": 2,
       "version_minor": 0
      },
      "text/plain": [
       "Validation: 0it [00:00, ?it/s]"
      ]
     },
     "metadata": {},
     "output_type": "display_data"
    },
    {
     "data": {
      "application/vnd.jupyter.widget-view+json": {
       "model_id": "42ad883974e04c738d6da0ff0f0c1be1",
       "version_major": 2,
       "version_minor": 0
      },
      "text/plain": [
       "Validation: 0it [00:00, ?it/s]"
      ]
     },
     "metadata": {},
     "output_type": "display_data"
    },
    {
     "data": {
      "application/vnd.jupyter.widget-view+json": {
       "model_id": "4cbd3291c123417294a13cee6a8ae542",
       "version_major": 2,
       "version_minor": 0
      },
      "text/plain": [
       "Validation: 0it [00:00, ?it/s]"
      ]
     },
     "metadata": {},
     "output_type": "display_data"
    },
    {
     "data": {
      "application/vnd.jupyter.widget-view+json": {
       "model_id": "062bc070b5954513856e5f1b75656333",
       "version_major": 2,
       "version_minor": 0
      },
      "text/plain": [
       "Validation: 0it [00:00, ?it/s]"
      ]
     },
     "metadata": {},
     "output_type": "display_data"
    },
    {
     "data": {
      "application/vnd.jupyter.widget-view+json": {
       "model_id": "8aa0df178af84510bdae39e726195eca",
       "version_major": 2,
       "version_minor": 0
      },
      "text/plain": [
       "Validation: 0it [00:00, ?it/s]"
      ]
     },
     "metadata": {},
     "output_type": "display_data"
    },
    {
     "data": {
      "application/vnd.jupyter.widget-view+json": {
       "model_id": "d922fa3d183d40c286e12e45314610ec",
       "version_major": 2,
       "version_minor": 0
      },
      "text/plain": [
       "Validation: 0it [00:00, ?it/s]"
      ]
     },
     "metadata": {},
     "output_type": "display_data"
    },
    {
     "data": {
      "application/vnd.jupyter.widget-view+json": {
       "model_id": "8e4554943f2949e38d77e00b121feac5",
       "version_major": 2,
       "version_minor": 0
      },
      "text/plain": [
       "Validation: 0it [00:00, ?it/s]"
      ]
     },
     "metadata": {},
     "output_type": "display_data"
    },
    {
     "data": {
      "application/vnd.jupyter.widget-view+json": {
       "model_id": "f1c060a1a7104cc78017ae19f12348bb",
       "version_major": 2,
       "version_minor": 0
      },
      "text/plain": [
       "Validation: 0it [00:00, ?it/s]"
      ]
     },
     "metadata": {},
     "output_type": "display_data"
    },
    {
     "name": "stdout",
     "output_type": "stream",
     "text": [
      "Reloading best model: /Users/lexington/Documents/GitHub/SBI_SGWB_DSMMA/Lexi/lightning_logs/version_19/checkpoints/epoch=9-step=2500.ckpt\n"
     ]
    },
    {
     "name": "stderr",
     "output_type": "stream",
     "text": [
      "/Users/lexington/anaconda3/envs/test_env/lib/python3.11/site-packages/swyft/lightning/utils.py:535: FutureWarning: You are using `torch.load` with `weights_only=False` (the current default value), which uses the default pickle module implicitly. It is possible to construct malicious pickle data which will execute arbitrary code during unpickling (See https://github.com/pytorch/pytorch/blob/main/SECURITY.md#untrusted-models for more details). In a future release, the default value for `weights_only` will be flipped to `True`. This limits the functions that could be executed during unpickling. Arbitrary objects will no longer be allowed to be loaded via this mode unless they are explicitly allowlisted by the user via `torch.serialization.add_safe_globals`. We recommend you start setting `weights_only=True` for any use case where you don't have full control of the loaded file. Please open an issue on GitHub for any issues related to this experimental feature.\n",
      "  checkpoint = torch.load(self.best_model_path)\n"
     ]
    }
   ],
   "source": [
    "trainer = swyft.SwyftTrainer(accelerator=DEVICE, precision=64)\n",
    "\n",
    "# Step 4: Prepare the data module for training\n",
    "dm = swyft.SwyftDataModule(samples, batch_size=32)\n",
    "\n",
    "# Step 5: Instantiate and train the network\n",
    "network = VAE()\n",
    "trainer.fit(network, dm)"
   ]
  },
  {
   "cell_type": "code",
   "execution_count": 8,
   "metadata": {},
   "outputs": [
    {
     "name": "stderr",
     "output_type": "stream",
     "text": [
      "The following callbacks returned in `LightningModule.configure_callbacks` will override existing callbacks passed to Trainer: EarlyStopping, ModelCheckpoint\n"
     ]
    },
    {
     "data": {
      "application/vnd.jupyter.widget-view+json": {
       "model_id": "0b3efab760a049f8a02fe14df5894103",
       "version_major": 2,
       "version_minor": 0
      },
      "text/plain": [
       "Predicting: 250it [00:00, ?it/s]"
      ]
     },
     "metadata": {},
     "output_type": "display_data"
    },
    {
     "name": "stderr",
     "output_type": "stream",
     "text": [
      "/Users/lexington/anaconda3/envs/test_env/lib/python3.11/site-packages/pytorch_lightning/loops/epoch/prediction_epoch_loop.py:173: UserWarning: Lightning couldn't infer the indices fetched for your dataloader.\n",
      "  warning_cache.warn(\"Lightning couldn't infer the indices fetched for your dataloader.\")\n"
     ]
    }
   ],
   "source": [
    "# Define priors\n",
    "omega_prior = stats.uniform(-12, 5)  # Log-uniform distribution for omega\n",
    "alpha_prior = stats.uniform(0, 3)            # Uniform distribution for alpha\n",
    "\n",
    "obs = swyft.Sample(x=samples['x'][0], z=samples['z'][0] ) \n",
    "# Sample 1000 points from the priors\n",
    "z_omega = omega_prior.rvs(20000)\n",
    "z_alpha = alpha_prior.rvs(20000)\n",
    "\n",
    "z_samps = np.column_stack((z_omega, z_alpha))\n",
    "\n",
    "# Create prior samples\n",
    "prior_samples = swyft.Samples(z = z_samps)\n",
    "predictions = trainer.infer(network, obs, prior_samples)\n"
   ]
  },
  {
   "cell_type": "code",
   "execution_count": 9,
   "metadata": {},
   "outputs": [
    {
     "data": {
      "text/plain": [
       "[<matplotlib.lines.Line2D at 0x31f28e690>]"
      ]
     },
     "execution_count": 9,
     "metadata": {},
     "output_type": "execute_result"
    },
    {
     "data": {
      "image/png": "[encoded data removed]",
      "text/plain": [
       "<Figure size 1500x600 with 3 Axes>"
      ]
     },
     "metadata": {},
     "output_type": "display_data"
    }
   ],
   "source": [
    "import seaborn as sns\n",
    "ln_r = np.asarray(predictions.logratios)\n",
    "r_1 = np.exp(ln_r[:, 0])\n",
    "r_2 = np.exp(ln_r[:, 1])\n",
    "\n",
    "post_Omega = np.random.choice(z_samps[:, 0], size=1000, p = r_1/np.sum(r_1))\n",
    "post_alpha = np.random.choice(z_samps[:, 1], size=1000, p = r_2/np.sum(r_2))\n",
    "plt.figure(figsize=(15, 6))\n",
    "plt.subplot(131)\n",
    "sns.histplot(post_Omega, bins=30, element=\"step\", fill=False)\n",
    "plt.axvline(obs['z'][0], color=\"red\")\n",
    "plt.xlabel(r\"$\\log_{10}\\Omega_\\alpha$\")\n",
    "plt.subplot(132)\n",
    "sns.histplot(post_alpha, bins=30, element=\"step\", fill=False)\n",
    "plt.axvline(obs['z'][1], color=\"red\")\n",
    "plt.xlabel(r\"$\\alpha$\")\n",
    "plt.subplot(133)\n",
    "for i in range(500):\n",
    "    plt.loglog(sim.freq, 10**post_Omega[i] * (sim.freq/sim.fref)**post_alpha[i], alpha=0.2, color=\"gray\")\n",
    "plt.xlabel(r\"$f$/Hz\")\n",
    "plt.ylabel(r\"$\\Omega(f)$\")\n",
    "plt.subplots_adjust(wspace=0.5)\n",
    "plt.loglog(sim.freq, 10**obs['z'][0]*(sim.freq/sim.fref)**obs['z'][1], color=\"red\")"
   ]
  },
  {
   "cell_type": "code",
   "execution_count": 10,
   "metadata": {},
   "outputs": [],
   "source": [
    "#implement T M N R E "
   ]
  }
 ],
 "metadata": {
  "kernelspec": {
   "display_name": "test_env",
   "language": "python",
   "name": "python3"
  },
  "language_info": {
   "codemirror_mode": {
    "name": "ipython",
    "version": 3
   },
   "file_extension": ".py",
   "mimetype": "text/x-python",
   "name": "python",
   "nbconvert_exporter": "python",
   "pygments_lexer": "ipython3",
   "version": "3.11.5"
  }
 },
 "nbformat": 4,
 "nbformat_minor": 2
}
