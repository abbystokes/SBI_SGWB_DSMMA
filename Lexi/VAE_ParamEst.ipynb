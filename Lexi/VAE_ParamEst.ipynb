{
 "cells": [
  {
   "cell_type": "code",
   "execution_count": 1,
   "metadata": {},
   "outputs": [],
   "source": [
    "import numpy as np\n",
    "import pylab as plt\n",
    "import torch\n",
    "import scipy.stats as stats\n",
    "import scipy\n",
    "import numpy as np\n",
    "import matplotlib.pyplot as plt\n",
    "import pytorch_lightning as pl\n",
    "import swyft\n",
    "import random\n",
    "import torch.nn as nn\n",
    "import torch.nn.functional as F\n",
    "from torchsummary import summary\n",
    "import pandas as pd\n",
    "from sklearn.preprocessing import StandardScaler\n",
    "from sklearn.model_selection import train_test_split\n",
    "import torch.optim as optim\n",
    "from torch.utils.data import TensorDataset, Dataset, DataLoader\n",
    "\n",
    "\n",
    "\n",
    "DEVICE = 'gpu' if torch.cuda.is_available() else 'cpu'\n",
    "\n",
    "# Define simulator parameters\n",
    "f_low = 10\n",
    "f_high = 1024\n",
    "N_bins = 4096\n",
    "freq = np.linspace(f_low, f_high, N_bins)\n",
    "pi = np.pi\n",
    "sqrt = np.sqrt\n",
    "H100 = 3.241e-18\n",
    "h    = 0.679\n",
    "H0   = h * H100\n",
    "\n",
    "# Define Simulator\n",
    "class Simulator(swyft.Simulator):\n",
    "    def __init__(self, fref, psd, gamma, T_obs, Nbins=len(freq), bounds=None):\n",
    "        super().__init__()\n",
    "        \n",
    "        self.fref      = fref\n",
    "        self.psd       = psd\n",
    "        self.gamma     = gamma\n",
    "        self.T_obs     = T_obs\n",
    "        \n",
    "        self.transform_samples = swyft.to_numpy32\n",
    "        self.Nbins = Nbins\n",
    "        self.freq = np.linspace(f_low, f_high, N_bins)\n",
    "        self.sample_z = swyft.RectBoundSampler([stats.uniform(-12,5), #omega\n",
    "                                                stats.uniform(0,5)], #alpha\n",
    "                                                bounds = bounds) #bounds changes range of the prior\n",
    "\n",
    "    def psd_interp(self):\n",
    "        return scipy.interpolate.interp1d(self.psd[:,0], self.psd[:,1])(self.freq)\n",
    "    \n",
    "    def gamma_interp(self):\n",
    "        return scipy.interpolate.interp1d(self.gamma[:, 0], self.gamma[:, 1])(self.freq)\n",
    "    \n",
    "    def sigma(self):\n",
    "        numerator = (20*pi**2*self.freq**3)**2 * self.psd_interp()**2\n",
    "        denomenator = (3*H0**2)**2 * 8*self.gamma_interp()**2\n",
    "        T = 1/(self.freq[1]-self.freq[0])\n",
    "        N = 2*self.T_obs // T - 1\n",
    "        return np.sqrt(numerator/denomenator/N)\n",
    "    \n",
    "    def C_groundtruth(self, z):\n",
    "        Omega_ref = 10**z[0]\n",
    "        alpha     = z[1]\n",
    "        C_hat_ij = Omega_ref * (self.freq/self.fref)**alpha\n",
    "        return C_hat_ij\n",
    "    \n",
    "    def build(self, graph):\n",
    "        z = graph.node('z', self.sample_z)\n",
    "        m = graph.node('m', self.C_groundtruth, z)\n",
    "        x = graph.node(\"x\", lambda m: m + np.random.normal(0, self.sigma()), m)\n",
    "        #x = graph.node(\"x\", lambda m: m + 0, m) #Ground truth wih sigma noise\n",
    "        sigma = graph.node('sigma',self.sigma)"
   ]
  },
  {
   "cell_type": "markdown",
   "metadata": {},
   "source": []
  },
  {
   "cell_type": "code",
   "execution_count": 4,
   "metadata": {},
   "outputs": [
    {
     "data": {
      "application/vnd.jupyter.widget-view+json": {
       "model_id": "f175b1cc8f7942d28e33d2c99c59ceaf",
       "version_major": 2,
       "version_minor": 0
      },
      "text/plain": [
       "  0%|          | 0/10000 [00:00<?, ?it/s]"
      ]
     },
     "metadata": {},
     "output_type": "display_data"
    }
   ],
   "source": [
    "# Sample from Simulator\n",
    "\n",
    "n_samples = 10000\n",
    "fref = 25\n",
    "CE_PSD = np.genfromtxt(\"data/cosmic_explorer_40km_for_paper.txt\")\n",
    "CE_PSD[0, 0]  = 4.99999999999999999\n",
    "CE_PSD[:, 1] = CE_PSD[:, 1]**2\n",
    "gamma_HL = np.genfromtxt(\"data/gamma_HL.txt\")\n",
    "T_obs = 365 * 24 * 3600\n",
    "\n",
    "sim = Simulator(fref, CE_PSD, gamma_HL, T_obs, bounds=None)\n",
    "sigma = sim.sigma\n",
    "\n",
    "samples = sim.sample(n_samples) \n",
    "\n",
    "x_samples = np.log10(np.abs(samples['x']))\n",
    "m_samples = np.log10(np.abs(samples['m']))\n",
    "\n",
    "scaler_x = StandardScaler()\n",
    "scaler_m = StandardScaler()\n",
    "\n",
    "x_samples = scaler_x.fit_transform(x_samples)\n",
    "samples['x'] = x_samples\n",
    "\n",
    "obs = sim.sample(conditions = {'z': np.array([5e-8, 2.1])})\n",
    "obs['x'] = scaler_x.fit_transform(np.log10(np.abs(samples['x'])))"
   ]
  },
  {
   "cell_type": "code",
   "execution_count": 5,
   "metadata": {},
   "outputs": [],
   "source": [
    "class VAE(swyft.SwyftModule):\n",
    "    def __init__(self):\n",
    "        super(VAE, self).__init__()\n",
    "\n",
    "        # Encoder layers (same as before, but with mu and logvar layers)\n",
    "        self.encoder_fc1 = nn.Linear(4096, 2048)\n",
    "        self.encoder_ln1 = nn.LayerNorm(2048)\n",
    "\n",
    "        self.encoder_fc2 = nn.Linear( 2048, 1024)\n",
    "        self.encoder_ln2 = nn.LayerNorm(1024)\n",
    "\n",
    "        self.encoder_fc3 = nn.Linear(1024, 512)\n",
    "        self.encoder_ln3 = nn.LayerNorm(512)\n",
    "\n",
    "        self.encoder_fc4 = nn.Linear(512, 256)\n",
    "        self.encoder_ln4 = nn.LayerNorm(256)\n",
    "\n",
    "        self.encoder_fc5 = nn.Linear( 256, 128)\n",
    "        self.encoder_ln5 = nn.LayerNorm(128)\n",
    "\n",
    "        self.encoder_fc6 = nn.Linear(128, 64)\n",
    "        self.encoder_ln6 = nn.LayerNorm(64)\n",
    "\n",
    "        self.encoder_fc7 = nn.Linear(64, 32)\n",
    "        self.encoder_ln7 = nn.LayerNorm(32)\n",
    "        \n",
    "        # Latent space mean and log variance\n",
    "        self.fc_mu = nn.Linear(32,16) # bigger latent space improved learning \n",
    "        self.fc_logvar = nn.Linear(32, 16)\n",
    "        \n",
    "        self.dropout = nn.Dropout(0.1)\n",
    "\n",
    "        self.logratios1 = swyft.LogRatioEstimator_1dim(num_features = 16, num_params = 2, varnames = 'z') \n",
    "    \n",
    "        self.logratios2 = swyft.LogRatioEstimator_Ndim(\n",
    "            num_features=16,\n",
    "            marginals=[(0, 1)],\n",
    "            varnames='z',\n",
    "            num_blocks=4\n",
    "        )\n",
    "\n",
    "    def encode(self, x):\n",
    "        x = F.leaky_relu(self.encoder_ln1(self.encoder_fc1(x)))\n",
    "        x = F.leaky_relu(self.encoder_ln2(self.encoder_fc2(x)))\n",
    "        x = F.leaky_relu(self.encoder_ln3(self.encoder_fc3(x)))\n",
    "        x = F.leaky_relu(self.encoder_ln4(self.encoder_fc4(x)))\n",
    "        x = F.leaky_relu(self.encoder_ln5(self.encoder_fc5(x)))\n",
    "        x = F.leaky_relu(self.encoder_ln6(self.encoder_fc6(x)))\n",
    "        x = F.leaky_relu(self.encoder_ln7(self.encoder_fc7(x)))\n",
    "        \n",
    "    \n",
    "        # Get the mean and log variance for the latent space\n",
    "        mu = self.fc_mu(x)\n",
    "        logvar = self.fc_logvar(x)\n",
    "\n",
    "        return mu, logvar\n",
    "\n",
    "    def reparameterize(self, mu, logvar):\n",
    "        # Reparameterization trick: z = mu + sigma * epsilon\n",
    "        std = torch.exp(0.5 * logvar)\n",
    "        eps = torch.randn_like(std) # random noise\n",
    "        z = mu + eps * std # latent variable\n",
    "        return z\n",
    "\n",
    "\n",
    "    def forward(self, A,B):\n",
    "        # Forward pass: encode, reparameterize, decode\n",
    "        mu, logvar = self.encode(A['x'])\n",
    "        z = self.reparameterize(mu, logvar)\n",
    "        z = self.dropout(z)\n",
    "        logratios1= self.logratios1(z, B['z'])\n",
    "        logratios2 = self.logratios2(z, B['z'])\n",
    "        return logratios1, logratios2\n",
    "        \n",
    "    \n",
    "\n"
   ]
  },
  {
   "cell_type": "code",
   "execution_count": 6,
   "metadata": {},
   "outputs": [
    {
     "name": "stderr",
     "output_type": "stream",
     "text": [
      "GPU available: True (mps), used: False\n",
      "TPU available: False, using: 0 TPU cores\n",
      "IPU available: False, using: 0 IPUs\n",
      "HPU available: False, using: 0 HPUs\n",
      "/Users/lexington/anaconda3/envs/test_env/lib/python3.11/site-packages/pytorch_lightning/trainer/setup.py:201: UserWarning: MPS available but not used. Set `accelerator` and `devices` using `Trainer(accelerator='mps', devices=1)`.\n",
      "  rank_zero_warn(\n",
      "/Users/lexington/anaconda3/envs/test_env/lib/python3.11/site-packages/pytorch_lightning/loops/utilities.py:94: PossibleUserWarning: `max_epochs` was not set. Setting it to 1000 epochs. To train without an epoch limit, set `max_epochs=-1`.\n",
      "  rank_zero_warn(\n",
      "The following callbacks returned in `LightningModule.configure_callbacks` will override existing callbacks passed to Trainer: EarlyStopping, ModelCheckpoint\n",
      "\n",
      "   | Name        | Type                   | Params\n",
      "--------------------------------------------------------\n",
      "0  | encoder_fc1 | Linear                 | 8.4 M \n",
      "1  | encoder_ln1 | LayerNorm              | 4.1 K \n",
      "2  | encoder_fc2 | Linear                 | 2.1 M \n",
      "3  | encoder_ln2 | LayerNorm              | 2.0 K \n",
      "4  | encoder_fc3 | Linear                 | 524 K \n",
      "5  | encoder_ln3 | LayerNorm              | 1.0 K \n",
      "6  | encoder_fc4 | Linear                 | 131 K \n",
      "7  | encoder_ln4 | LayerNorm              | 512   \n",
      "8  | encoder_fc5 | Linear                 | 32.9 K\n",
      "9  | encoder_ln5 | LayerNorm              | 256   \n",
      "10 | encoder_fc6 | Linear                 | 8.3 K \n",
      "11 | encoder_ln6 | LayerNorm              | 128   \n",
      "12 | encoder_fc7 | Linear                 | 2.1 K \n",
      "13 | encoder_ln7 | LayerNorm              | 64    \n",
      "14 | fc_mu       | Linear                 | 528   \n",
      "15 | fc_logvar   | Linear                 | 528   \n",
      "16 | dropout     | Dropout                | 0     \n",
      "17 | logratios1  | LogRatioEstimator_1dim | 36.7 K\n",
      "18 | logratios2  | LogRatioEstimator_Ndim | 35.6 K\n",
      "--------------------------------------------------------\n",
      "11.3 M    Trainable params\n",
      "0         Non-trainable params\n",
      "11.3 M    Total params\n",
      "90.158    Total estimated model params size (MB)\n"
     ]
    },
    {
     "data": {
      "application/vnd.jupyter.widget-view+json": {
       "model_id": "13969f500d0d4821975f1d60e221a3a4",
       "version_major": 2,
       "version_minor": 0
      },
      "text/plain": [
       "Sanity Checking: 0it [00:00, ?it/s]"
      ]
     },
     "metadata": {},
     "output_type": "display_data"
    },
    {
     "name": "stderr",
     "output_type": "stream",
     "text": [
      "/Users/lexington/anaconda3/envs/test_env/lib/python3.11/site-packages/pytorch_lightning/trainer/connectors/data_connector.py:224: PossibleUserWarning: The dataloader, val_dataloader 0, does not have many workers which may be a bottleneck. Consider increasing the value of the `num_workers` argument` (try 8 which is the number of cpus on this machine) in the `DataLoader` init to improve performance.\n",
      "  rank_zero_warn(\n",
      "/Users/lexington/anaconda3/envs/test_env/lib/python3.11/site-packages/torch/__init__.py:1144: UserWarning: torch.set_default_tensor_type() is deprecated as of PyTorch 2.1, please use torch.set_default_dtype() and torch.set_default_device() as alternatives. (Triggered internally at /Users/runner/work/pytorch/pytorch/pytorch/torch/csrc/tensor/python_tensor.cpp:434.)\n",
      "  _C._set_default_tensor_type(t)\n",
      "/Users/lexington/anaconda3/envs/test_env/lib/python3.11/site-packages/pytorch_lightning/trainer/connectors/data_connector.py:224: PossibleUserWarning: The dataloader, train_dataloader, does not have many workers which may be a bottleneck. Consider increasing the value of the `num_workers` argument` (try 8 which is the number of cpus on this machine) in the `DataLoader` init to improve performance.\n",
      "  rank_zero_warn(\n"
     ]
    },
    {
     "data": {
      "application/vnd.jupyter.widget-view+json": {
       "model_id": "618b0a58ad7b43a1bc711e68bf599869",
       "version_major": 2,
       "version_minor": 0
      },
      "text/plain": [
       "Training: 0it [00:00, ?it/s]"
      ]
     },
     "metadata": {},
     "output_type": "display_data"
    },
    {
     "data": {
      "application/vnd.jupyter.widget-view+json": {
       "model_id": "231dfa83d5774426bf8dc2516f3bd963",
       "version_major": 2,
       "version_minor": 0
      },
      "text/plain": [
       "Validation: 0it [00:00, ?it/s]"
      ]
     },
     "metadata": {},
     "output_type": "display_data"
    },
    {
     "data": {
      "application/vnd.jupyter.widget-view+json": {
       "model_id": "23016e5b2ab54bd4a7ee17d2c21b53c7",
       "version_major": 2,
       "version_minor": 0
      },
      "text/plain": [
       "Validation: 0it [00:00, ?it/s]"
      ]
     },
     "metadata": {},
     "output_type": "display_data"
    },
    {
     "data": {
      "application/vnd.jupyter.widget-view+json": {
       "model_id": "4bb8fc1074eb45bdbc4eb0aed0590488",
       "version_major": 2,
       "version_minor": 0
      },
      "text/plain": [
       "Validation: 0it [00:00, ?it/s]"
      ]
     },
     "metadata": {},
     "output_type": "display_data"
    },
    {
     "data": {
      "application/vnd.jupyter.widget-view+json": {
       "model_id": "092e4394993044ad820f116879a5fd7b",
       "version_major": 2,
       "version_minor": 0
      },
      "text/plain": [
       "Validation: 0it [00:00, ?it/s]"
      ]
     },
     "metadata": {},
     "output_type": "display_data"
    },
    {
     "data": {
      "application/vnd.jupyter.widget-view+json": {
       "model_id": "3c12abdc9d2c40d49f9212e3931fd45f",
       "version_major": 2,
       "version_minor": 0
      },
      "text/plain": [
       "Validation: 0it [00:00, ?it/s]"
      ]
     },
     "metadata": {},
     "output_type": "display_data"
    },
    {
     "data": {
      "application/vnd.jupyter.widget-view+json": {
       "model_id": "b2749fba645646209c4193e377d4ae06",
       "version_major": 2,
       "version_minor": 0
      },
      "text/plain": [
       "Validation: 0it [00:00, ?it/s]"
      ]
     },
     "metadata": {},
     "output_type": "display_data"
    },
    {
     "data": {
      "application/vnd.jupyter.widget-view+json": {
       "model_id": "bb59fb56175147d180cc0a409a05ed4c",
       "version_major": 2,
       "version_minor": 0
      },
      "text/plain": [
       "Validation: 0it [00:00, ?it/s]"
      ]
     },
     "metadata": {},
     "output_type": "display_data"
    },
    {
     "data": {
      "application/vnd.jupyter.widget-view+json": {
       "model_id": "5415d85ff25147a3a952624652a313bd",
       "version_major": 2,
       "version_minor": 0
      },
      "text/plain": [
       "Validation: 0it [00:00, ?it/s]"
      ]
     },
     "metadata": {},
     "output_type": "display_data"
    },
    {
     "data": {
      "application/vnd.jupyter.widget-view+json": {
       "model_id": "4e74776cbeeb479093ba3529b62ea98c",
       "version_major": 2,
       "version_minor": 0
      },
      "text/plain": [
       "Validation: 0it [00:00, ?it/s]"
      ]
     },
     "metadata": {},
     "output_type": "display_data"
    },
    {
     "data": {
      "application/vnd.jupyter.widget-view+json": {
       "model_id": "d4064f0ce9f74f388a48c640c2288a08",
       "version_major": 2,
       "version_minor": 0
      },
      "text/plain": [
       "Validation: 0it [00:00, ?it/s]"
      ]
     },
     "metadata": {},
     "output_type": "display_data"
    },
    {
     "data": {
      "application/vnd.jupyter.widget-view+json": {
       "model_id": "98e3bab109f64da38c064a4c7bae9d36",
       "version_major": 2,
       "version_minor": 0
      },
      "text/plain": [
       "Validation: 0it [00:00, ?it/s]"
      ]
     },
     "metadata": {},
     "output_type": "display_data"
    },
    {
     "data": {
      "application/vnd.jupyter.widget-view+json": {
       "model_id": "b2a5f3bee4f846d092d9d040303b0699",
       "version_major": 2,
       "version_minor": 0
      },
      "text/plain": [
       "Validation: 0it [00:00, ?it/s]"
      ]
     },
     "metadata": {},
     "output_type": "display_data"
    },
    {
     "data": {
      "application/vnd.jupyter.widget-view+json": {
       "model_id": "ec2320df973641629f658e58757a3d60",
       "version_major": 2,
       "version_minor": 0
      },
      "text/plain": [
       "Validation: 0it [00:00, ?it/s]"
      ]
     },
     "metadata": {},
     "output_type": "display_data"
    },
    {
     "data": {
      "application/vnd.jupyter.widget-view+json": {
       "model_id": "55d874ff12a54664b3273e201a1f35d5",
       "version_major": 2,
       "version_minor": 0
      },
      "text/plain": [
       "Validation: 0it [00:00, ?it/s]"
      ]
     },
     "metadata": {},
     "output_type": "display_data"
    },
    {
     "data": {
      "application/vnd.jupyter.widget-view+json": {
       "model_id": "a566aa428d50426da011b1aa175eb485",
       "version_major": 2,
       "version_minor": 0
      },
      "text/plain": [
       "Validation: 0it [00:00, ?it/s]"
      ]
     },
     "metadata": {},
     "output_type": "display_data"
    },
    {
     "data": {
      "application/vnd.jupyter.widget-view+json": {
       "model_id": "6d619a2fe91449948e158cd50681f85d",
       "version_major": 2,
       "version_minor": 0
      },
      "text/plain": [
       "Validation: 0it [00:00, ?it/s]"
      ]
     },
     "metadata": {},
     "output_type": "display_data"
    },
    {
     "data": {
      "application/vnd.jupyter.widget-view+json": {
       "model_id": "ec5ea6a852f643f7848d8366ebc7a527",
       "version_major": 2,
       "version_minor": 0
      },
      "text/plain": [
       "Validation: 0it [00:00, ?it/s]"
      ]
     },
     "metadata": {},
     "output_type": "display_data"
    },
    {
     "data": {
      "application/vnd.jupyter.widget-view+json": {
       "model_id": "b631dedea27443eeb45ba36e94cc4d6d",
       "version_major": 2,
       "version_minor": 0
      },
      "text/plain": [
       "Validation: 0it [00:00, ?it/s]"
      ]
     },
     "metadata": {},
     "output_type": "display_data"
    },
    {
     "data": {
      "application/vnd.jupyter.widget-view+json": {
       "model_id": "83e6576ad38f42c18d8bb739884591fa",
       "version_major": 2,
       "version_minor": 0
      },
      "text/plain": [
       "Validation: 0it [00:00, ?it/s]"
      ]
     },
     "metadata": {},
     "output_type": "display_data"
    },
    {
     "data": {
      "application/vnd.jupyter.widget-view+json": {
       "model_id": "64328cc4c68e43ef97f08b148e5b10c0",
       "version_major": 2,
       "version_minor": 0
      },
      "text/plain": [
       "Validation: 0it [00:00, ?it/s]"
      ]
     },
     "metadata": {},
     "output_type": "display_data"
    },
    {
     "data": {
      "application/vnd.jupyter.widget-view+json": {
       "model_id": "81cc6e4ccd11491ca3dbd50c0cc3ea49",
       "version_major": 2,
       "version_minor": 0
      },
      "text/plain": [
       "Validation: 0it [00:00, ?it/s]"
      ]
     },
     "metadata": {},
     "output_type": "display_data"
    },
    {
     "data": {
      "application/vnd.jupyter.widget-view+json": {
       "model_id": "59997138c59141649119c9ac44feccd7",
       "version_major": 2,
       "version_minor": 0
      },
      "text/plain": [
       "Validation: 0it [00:00, ?it/s]"
      ]
     },
     "metadata": {},
     "output_type": "display_data"
    },
    {
     "data": {
      "application/vnd.jupyter.widget-view+json": {
       "model_id": "fe747766e7a140c1acefe80cf7b1f409",
       "version_major": 2,
       "version_minor": 0
      },
      "text/plain": [
       "Validation: 0it [00:00, ?it/s]"
      ]
     },
     "metadata": {},
     "output_type": "display_data"
    },
    {
     "data": {
      "application/vnd.jupyter.widget-view+json": {
       "model_id": "577a7fec092145afb8b8a495bc84f029",
       "version_major": 2,
       "version_minor": 0
      },
      "text/plain": [
       "Validation: 0it [00:00, ?it/s]"
      ]
     },
     "metadata": {},
     "output_type": "display_data"
    },
    {
     "data": {
      "application/vnd.jupyter.widget-view+json": {
       "model_id": "10e6305968dc4986a1bf76f8e0435185",
       "version_major": 2,
       "version_minor": 0
      },
      "text/plain": [
       "Validation: 0it [00:00, ?it/s]"
      ]
     },
     "metadata": {},
     "output_type": "display_data"
    },
    {
     "name": "stdout",
     "output_type": "stream",
     "text": [
      "Reloading best model: ./logs/VAE_logs/version_8/checkpoints/epoch=19-step=1260.ckpt\n"
     ]
    },
    {
     "name": "stderr",
     "output_type": "stream",
     "text": [
      "/Users/lexington/anaconda3/envs/test_env/lib/python3.11/site-packages/swyft/lightning/utils.py:535: FutureWarning: You are using `torch.load` with `weights_only=False` (the current default value), which uses the default pickle module implicitly. It is possible to construct malicious pickle data which will execute arbitrary code during unpickling (See https://github.com/pytorch/pytorch/blob/main/SECURITY.md#untrusted-models for more details). In a future release, the default value for `weights_only` will be flipped to `True`. This limits the functions that could be executed during unpickling. Arbitrary objects will no longer be allowed to be loaded via this mode unless they are explicitly allowlisted by the user via `torch.serialization.add_safe_globals`. We recommend you start setting `weights_only=True` for any use case where you don't have full control of the loaded file. Please open an issue on GitHub for any issues related to this experimental feature.\n",
      "  checkpoint = torch.load(self.best_model_path)\n"
     ]
    }
   ],
   "source": [
    "from pytorch_lightning.callbacks import LearningRateMonitor, ModelCheckpoint\n",
    "from pytorch_lightning.callbacks.early_stopping import EarlyStopping\n",
    "from pytorch_lightning import loggers as pl_loggers\n",
    "\n",
    "\n",
    "dm = swyft.SwyftDataModule(samples, val_fraction = 0.2, batch_size = 128)\n",
    "\n",
    "lr_monitor = LearningRateMonitor(logging_interval='step')\n",
    "early_stopping_callback = EarlyStopping(monitor='val_loss', min_delta = 0., patience=3, verbose=False, mode='min')\n",
    "checkpoint_callback = ModelCheckpoint(monitor='val_loss', dirpath='./logs/', filename='rings_{epoch}_{val_loss:.2f}_{train_loss:.2f}', mode='min')\n",
    "logger = pl_loggers.TensorBoardLogger(save_dir='./logs/', name='VAE_logs', version=None)\n",
    "\n",
    "trainer = swyft.SwyftTrainer(accelerator = 'cpu', auto_lr_find=True, logger=logger, callbacks=[lr_monitor, early_stopping_callback, checkpoint_callback], precision=64)\n",
    "network = VAE()\n",
    "trainer.fit(network, dm)\n",
    "\n"
   ]
  },
  {
   "cell_type": "code",
   "execution_count": 7,
   "metadata": {},
   "outputs": [
    {
     "name": "stderr",
     "output_type": "stream",
     "text": [
      "The following callbacks returned in `LightningModule.configure_callbacks` will override existing callbacks passed to Trainer: EarlyStopping, ModelCheckpoint\n"
     ]
    },
    {
     "data": {
      "application/vnd.jupyter.widget-view+json": {
       "model_id": "5670aa1de2664621ba66d3ac90827c84",
       "version_major": 2,
       "version_minor": 0
      },
      "text/plain": [
       "Predicting: 63it [00:00, ?it/s]"
      ]
     },
     "metadata": {},
     "output_type": "display_data"
    },
    {
     "name": "stderr",
     "output_type": "stream",
     "text": [
      "/Users/lexington/anaconda3/envs/test_env/lib/python3.11/site-packages/pytorch_lightning/loops/epoch/prediction_epoch_loop.py:173: UserWarning: Lightning couldn't infer the indices fetched for your dataloader.\n",
      "  warning_cache.warn(\"Lightning couldn't infer the indices fetched for your dataloader.\")\n"
     ]
    }
   ],
   "source": [
    "# Define priors\n",
    "omega_prior = stats.uniform(-12, 5)  # Log-uniform distribution for omega\n",
    "alpha_prior = stats.uniform(0,5)            # Uniform distribution for alpha\n",
    "\n",
    "obs = swyft.Sample(x=samples['x'][0], z=samples['z'][0] ) \n",
    "# Sample 1000 points from the priors\n",
    "z_omega = omega_prior.rvs(20000)\n",
    "z_alpha = alpha_prior.rvs(20000)\n",
    "\n",
    "z_samps = np.column_stack((z_omega, z_alpha))\n",
    "\n",
    "# Create prior samples\n",
    "prior_samples = swyft.Samples(z=z_samps)\n",
    "predictions = trainer.infer(network, obs, prior_samples)\n"
   ]
  },
  {
   "cell_type": "code",
   "execution_count": 8,
   "metadata": {},
   "outputs": [
    {
     "data": {
      "image/png": "[encoded data removed]",
      "text/plain": [
       "<Figure size 640x480 with 4 Axes>"
      ]
     },
     "metadata": {},
     "output_type": "display_data"
    }
   ],
   "source": [
    "swyft.plot_corner(predictions, ['z[0]', 'z[1]'], bins = 200, smooth = 3);\n",
    "plt.show()"
   ]
  },
  {
   "cell_type": "code",
   "execution_count": 9,
   "metadata": {},
   "outputs": [
    {
     "data": {
      "image/png": "[encoded data removed]",
      "text/plain": [
       "<Figure size 640x480 with 1 Axes>"
      ]
     },
     "metadata": {},
     "output_type": "display_data"
    },
    {
     "data": {
      "image/png": "[encoded data removed]",
      "text/plain": [
       "<Figure size 640x480 with 1 Axes>"
      ]
     },
     "metadata": {},
     "output_type": "display_data"
    }
   ],
   "source": [
    "swyft.plot_posterior(predictions, 'z[0]', smooth=2);\n",
    "plt.axvline(obs['z'][0], color=\"red\")\n",
    "plt.show()\n",
    "\n",
    "swyft.plot_posterior(predictions, 'z[1]', smooth=2);\n",
    "plt.axvline(obs['z'][1], color=\"red\")\n",
    "plt.show()\n"
   ]
  },
  {
   "cell_type": "code",
   "execution_count": null,
   "metadata": {},
   "outputs": [],
   "source": []
  },
  {
   "cell_type": "code",
   "execution_count": null,
   "metadata": {},
   "outputs": [],
   "source": []
  }
 ],
 "metadata": {
  "kernelspec": {
   "display_name": "test_env",
   "language": "python",
   "name": "python3"
  },
  "language_info": {
   "codemirror_mode": {
    "name": "ipython",
    "version": 3
   },
   "file_extension": ".py",
   "mimetype": "text/x-python",
   "name": "python",
   "nbconvert_exporter": "python",
   "pygments_lexer": "ipython3",
   "version": "3.11.5"
  }
 },
 "nbformat": 4,
 "nbformat_minor": 2
}
